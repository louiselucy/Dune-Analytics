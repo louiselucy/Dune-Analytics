{
 "cells": [
  {
   "cell_type": "code",
   "execution_count": 13,
   "id": "02f0aae9-480a-48bb-8452-c38e4f4d14a3",
   "metadata": {},
   "outputs": [],
   "source": [
    "import pandas as pd\n",
    "import requests\n",
    "import csv"
   ]
  },
  {
   "cell_type": "code",
   "execution_count": 14,
   "id": "222068c1-ee5f-464a-b064-59f6ce732e33",
   "metadata": {},
   "outputs": [
    {
     "data": {
      "text/plain": [
       "<Response [429]>"
      ]
     },
     "execution_count": 14,
     "metadata": {},
     "output_type": "execute_result"
    }
   ],
   "source": [
    "requests.get(\"https://api.coingecko.com/api/v3/coins/list\")"
   ]
  },
  {
   "cell_type": "code",
   "execution_count": 23,
   "id": "3eb9addf-35eb-4f5d-9cce-a44a6a88beb1",
   "metadata": {},
   "outputs": [
    {
     "name": "stdout",
     "output_type": "stream",
     "text": [
      "                                 id    symbol                           name\n",
      "0                            01coin       zoc                         01coin\n",
      "1          0-5x-long-algorand-token  algohalf       0.5X Long Algorand Token\n",
      "2     0-5x-long-altcoin-index-token   althalf  0.5X Long Altcoin Index Token\n",
      "3          0-5x-long-balancer-token   balhalf       0.5X Long Balancer Token\n",
      "4      0-5x-long-bitcoin-cash-token   bchhalf   0.5X Long Bitcoin Cash Token\n",
      "...                             ...       ...                            ...\n",
      "9223                           zyro      zyro                           Zyro\n",
      "9224                  zytara-dollar      zusd                  Zytara Dollar\n",
      "9225                            zyx       zyx                            ZYX\n",
      "9226                    zzz-finance       zzz                    zzz.finance\n",
      "9227                 zzz-finance-v2     zzzv2                 zzz.finance v2\n",
      "\n",
      "[9228 rows x 3 columns]\n"
     ]
    }
   ],
   "source": [
    "d = requests.get(\"https://api.coingecko.com/api/v3/coins/list\")\n",
    "data = response.json()\n",
    "df = (pd.DataFrame(data))\n",
    "print (df)"
   ]
  },
  {
   "cell_type": "code",
   "execution_count": 25,
   "id": "981e9f39-863d-4ebb-b6b9-205bd44fee2c",
   "metadata": {},
   "outputs": [],
   "source": [
    "df.to_csv('coingecko.csv')"
   ]
  }
 ],
 "metadata": {
  "kernelspec": {
   "display_name": "Python 3",
   "language": "python",
   "name": "python3"
  },
  "language_info": {
   "codemirror_mode": {
    "name": "ipython",
    "version": 3
   },
   "file_extension": ".py",
   "mimetype": "text/x-python",
   "name": "python",
   "nbconvert_exporter": "python",
   "pygments_lexer": "ipython3",
   "version": "3.8.8"
  }
 },
 "nbformat": 4,
 "nbformat_minor": 5
}
