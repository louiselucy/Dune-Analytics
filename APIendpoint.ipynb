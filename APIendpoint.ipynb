{
 "cells": [
  {
   "cell_type": "code",
   "execution_count": 1,
   "id": "6486decc-35b6-4340-a668-ba84b422c17b",
   "metadata": {},
   "outputs": [],
   "source": [
    "import pandas as pd\n",
    "import requests\n",
    "import csv"
   ]
  },
  {
   "cell_type": "code",
   "execution_count": null,
   "id": "98483f5b-7467-4a90-834d-be65e11af7c3",
   "metadata": {},
   "outputs": [],
   "source": [
    "url = \"https://www.okex.com/api/v5/market/trades\"\n",
    "params = {'instId': 'BTC-USDT',\n",
    "      'limit': 100}\n",
    "\n",
    "response = requests.get(url, params=params)\n",
    "data = response.json()['data']\n",
    "print(data)\n",
    "print(pd.DataFrame(data))"
   ]
  },
  {
   "cell_type": "code",
   "execution_count": 12,
   "id": "63428454-d325-43d0-a3e1-2952df642587",
   "metadata": {},
   "outputs": [
    {
     "name": "stdout",
     "output_type": "stream",
     "text": [
      "      instId  side          sz       px    tradeId             ts\n",
      "0   BTC-USDT  sell  0.00044573  50508.2  233927162  1630691063019\n",
      "1   BTC-USDT  sell   0.0080466  50508.2  233927161  1630691063019\n",
      "2   BTC-USDT   buy  0.00383886  50508.3  233927160  1630691062010\n",
      "3   BTC-USDT   buy  0.00338507  50508.3  233927159  1630691061953\n",
      "4   BTC-USDT   buy     0.00001  50508.3  233927158  1630691061953\n",
      "..       ...   ...         ...      ...        ...            ...\n",
      "95  BTC-USDT   buy  0.00698548  50512.4  233927067  1630691030103\n",
      "96  BTC-USDT   buy     0.00001  50512.4  233927066  1630691030103\n",
      "97  BTC-USDT   buy   0.0148509  50512.4  233927065  1630691030103\n",
      "98  BTC-USDT   buy  0.00554258  50512.4  233927064  1630691029773\n",
      "99  BTC-USDT   buy  0.01704544  50512.4  233927063  1630691027153\n",
      "\n",
      "[100 rows x 6 columns]\n"
     ]
    }
   ],
   "source": [
    "url = \"https://www.okex.com/api/v5/market/trades\"\n",
    "params = {'instId': 'BTC-USDT',\n",
    "      'limit': 100}\n",
    "\n",
    "response = requests.get(url, params=params)\n",
    "data = response.json()['data']\n",
    "\n",
    "df = (pd.DataFrame(data))\n",
    "print (df)"
   ]
  },
  {
   "cell_type": "code",
   "execution_count": 13,
   "id": "ead20eb8-b00e-4f6e-831f-c3c32282edb1",
   "metadata": {},
   "outputs": [],
   "source": [
    "df.to_csv('csv.csv')"
   ]
  },
  {
   "cell_type": "code",
   "execution_count": null,
   "id": "fdea2533-e753-4891-96c9-31312e8ed1d5",
   "metadata": {},
   "outputs": [],
   "source": []
  },
  {
   "cell_type": "code",
   "execution_count": null,
   "id": "07fc0fa1-52a2-4274-9775-baf78482fd96",
   "metadata": {},
   "outputs": [],
   "source": []
  },
  {
   "cell_type": "code",
   "execution_count": null,
   "id": "e48f87f6-70ec-4f65-a5d9-c26ef816909e",
   "metadata": {},
   "outputs": [],
   "source": []
  },
  {
   "cell_type": "code",
   "execution_count": null,
   "id": "ec94d915-405e-40a5-96ce-b92a64afcb0d",
   "metadata": {},
   "outputs": [],
   "source": []
  }
 ],
 "metadata": {
  "kernelspec": {
   "display_name": "Python 3",
   "language": "python",
   "name": "python3"
  },
  "language_info": {
   "codemirror_mode": {
    "name": "ipython",
    "version": 3
   },
   "file_extension": ".py",
   "mimetype": "text/x-python",
   "name": "python",
   "nbconvert_exporter": "python",
   "pygments_lexer": "ipython3",
   "version": "3.8.8"
  }
 },
 "nbformat": 4,
 "nbformat_minor": 5
}
