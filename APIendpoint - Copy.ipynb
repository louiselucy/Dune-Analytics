{
 "cells": [
  {
   "cell_type": "markdown",
   "id": "1ccf581a-c88c-4305-b636-42b5920896ca",
   "metadata": {},
   "source": [
    "API endpoint\n",
    "using request library and pandas to csv"
   ]
  },
  {
   "cell_type": "code",
   "execution_count": 19,
   "id": "48721896-3942-4bcc-8863-ba5148441dba",
   "metadata": {},
   "outputs": [],
   "source": [
    "import pandas as pd\n",
    "import requests\n",
    "import csv"
   ]
  },
  {
   "cell_type": "code",
   "execution_count": 20,
   "id": "63428454-d325-43d0-a3e1-2952df642587",
   "metadata": {},
   "outputs": [
    {
     "name": "stdout",
     "output_type": "stream",
     "text": [
      "      instId  side          sz       px    tradeId             ts\n",
      "0   BTC-USDT  sell  0.00221021  50440.6  233931610  1630691750281\n",
      "1   BTC-USDT   buy  0.00004219  50440.7  233931609  1630691749827\n",
      "2   BTC-USDT  sell  0.00008915  50440.6  233931608  1630691746826\n",
      "3   BTC-USDT   buy  0.00012472  50440.7  233931607  1630691743319\n",
      "4   BTC-USDT  sell  0.00554311  50440.6  233931606  1630691742686\n",
      "..       ...   ...         ...      ...        ...            ...\n",
      "95  BTC-USDT  sell  0.00695182  50436.3  233931515  1630691694658\n",
      "96  BTC-USDT  sell  0.00010444  50436.4  233931514  1630691694658\n",
      "97  BTC-USDT  sell  0.00005108  50436.4  233931513  1630691694658\n",
      "98  BTC-USDT  sell        0.01    50441  233931512  1630691694652\n",
      "99  BTC-USDT  sell  0.01111415    50442  233931511  1630691694640\n",
      "\n",
      "[100 rows x 6 columns]\n"
     ]
    }
   ],
   "source": [
    "url = \"https://www.okex.com/api/v5/market/trades\"\n",
    "params = {'instId': 'BTC-USDT',\n",
    "      'limit': 100}\n",
    "\n",
    "response = requests.get(url, params=params)\n",
    "data = response.json()['data']\n",
    "\n",
    "df = (pd.DataFrame(data))\n",
    "print (df)"
   ]
  },
  {
   "cell_type": "code",
   "execution_count": 21,
   "id": "ead20eb8-b00e-4f6e-831f-c3c32282edb1",
   "metadata": {},
   "outputs": [],
   "source": [
    "df.to_csv('trades.csv')"
   ]
  }
 ],
 "metadata": {
  "kernelspec": {
   "display_name": "Python 3",
   "language": "python",
   "name": "python3"
  },
  "language_info": {
   "codemirror_mode": {
    "name": "ipython",
    "version": 3
   },
   "file_extension": ".py",
   "mimetype": "text/x-python",
   "name": "python",
   "nbconvert_exporter": "python",
   "pygments_lexer": "ipython3",
   "version": "3.8.8"
  }
 },
 "nbformat": 4,
 "nbformat_minor": 5
}
